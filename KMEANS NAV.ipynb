{
 "cells": [
  {
   "cell_type": "code",
   "execution_count": 20,
   "id": "ac81420f",
   "metadata": {},
   "outputs": [
    {
     "name": "stdout",
     "output_type": "stream",
     "text": [
      "Error 1.5886393\n",
      "Error 0.5484787\n",
      "Error 0.0\n"
     ]
    }
   ],
   "source": [
    "from copy import deepcopy\n",
    "import pandas as pd\n",
    "import numpy as np\n",
    "def euclidean(a,b,ax=1):\n",
    "    return np.linalg.norm(a-b,axis=ax)\n",
    "k=3\n",
    "X=pd.read_csv('kmean.csv',index_col=False)\n",
    "x1=X['x'].values\n",
    "x2=X['y'].values\n",
    "X=np.array(list(zip(x1,x2)))\n",
    "#C_X=[1,2,3]\n",
    "#C_Y=[4,5,6]\n",
    "C_X = [6.2, 6.6 ,6.5]\n",
    "C_Y = [3.2, 3.7, 3.0]\n",
    "Centroid=np.array(list(zip(C_X,C_Y)),dtype=np.float32)\n",
    "Centroid_old = np.zeros(Centroid.shape)\n",
    "clusters=np.zeros(len(X))\n",
    "\n",
    "error=euclidean(Centroid,Centroid_old,None)\n",
    "iterr=0\n",
    "\n",
    "\n",
    "while error!=0:\n",
    "    iterr=iterr+1\n",
    "    for i in range(len(X)):\n",
    "        distance=euclidean(X[i],Centroid)\n",
    "        cluster=np.argmin(distance)\n",
    "        clusters[i]=cluster\n",
    "    \n",
    "    Centroid_old=deepcopy(Centroid)\n",
    "    for p in range(k):\n",
    "        points=[X[j] for j in range(len(X)) if clusters[j]==p]\n",
    "        Centroid[p] = np.mean(points,axis=0)\n",
    "    error=euclidean(Centroid,Centroid_old,None)\n",
    "    print('Error',error)"
   ]
  },
  {
   "cell_type": "code",
   "execution_count": 15,
   "id": "043ab521",
   "metadata": {},
   "outputs": [
    {
     "name": "stdout",
     "output_type": "stream",
     "text": [
      " Centre of the clusters after  1  Iteration \n",
      " [[5.1714287 3.1714287]\n",
      " [5.5       4.2      ]\n",
      " [6.45      2.95     ]]\n",
      "Error  ...  1.5886393\n",
      " Centre of the clusters after  2  Iteration \n",
      " [[4.8   3.05 ]\n",
      " [5.3   4.   ]\n",
      " [6.2   3.025]]\n",
      "Error  ...  0.5484787\n",
      " Centre of the clusters after  3  Iteration \n",
      " [[4.8   3.05 ]\n",
      " [5.3   4.   ]\n",
      " [6.2   3.025]]\n",
      "Error  ...  0.0\n"
     ]
    }
   ],
   "source": [
    "\n"
   ]
  },
  {
   "cell_type": "code",
   "execution_count": null,
   "id": "4ee6aa7d",
   "metadata": {},
   "outputs": [],
   "source": []
  }
 ],
 "metadata": {
  "kernelspec": {
   "display_name": "Python 3",
   "language": "python",
   "name": "python3"
  },
  "language_info": {
   "codemirror_mode": {
    "name": "ipython",
    "version": 3
   },
   "file_extension": ".py",
   "mimetype": "text/x-python",
   "name": "python",
   "nbconvert_exporter": "python",
   "pygments_lexer": "ipython3",
   "version": "3.8.8"
  }
 },
 "nbformat": 4,
 "nbformat_minor": 5
}
