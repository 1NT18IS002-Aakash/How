{
 "cells": [
  {
   "cell_type": "code",
   "execution_count": 42,
   "id": "92a870fc",
   "metadata": {},
   "outputs": [
    {
     "name": "stdout",
     "output_type": "stream",
     "text": [
      "Mean= 4.666666666666667\n",
      "Median= 5.0\n",
      "[2, 3, 4, 6, 6, 7]\n",
      "Mode at index  5\n",
      "variance=  2.222222222222222 \n",
      "sd=  1.4907119849998596\n",
      "2\n",
      "7\n"
     ]
    },
    {
     "ename": "NameError",
     "evalue": "name 'avg' is not defined",
     "output_type": "error",
     "traceback": [
      "\u001b[1;31m---------------------------------------------------------------------------\u001b[0m",
      "\u001b[1;31mNameError\u001b[0m                                 Traceback (most recent call last)",
      "\u001b[1;32m<ipython-input-42-23a447dc2de3>\u001b[0m in \u001b[0;36m<module>\u001b[1;34m\u001b[0m\n\u001b[0;32m     52\u001b[0m \u001b[0mstandard\u001b[0m \u001b[1;33m=\u001b[0m \u001b[1;33m[\u001b[0m\u001b[1;33m]\u001b[0m\u001b[1;33m\u001b[0m\u001b[1;33m\u001b[0m\u001b[0m\n\u001b[0;32m     53\u001b[0m \u001b[1;32mfor\u001b[0m \u001b[0mit\u001b[0m \u001b[1;32min\u001b[0m \u001b[0ml1\u001b[0m\u001b[1;33m:\u001b[0m\u001b[1;33m\u001b[0m\u001b[1;33m\u001b[0m\u001b[0m\n\u001b[1;32m---> 54\u001b[1;33m     \u001b[0mstandard\u001b[0m\u001b[1;33m.\u001b[0m\u001b[0mappend\u001b[0m\u001b[1;33m(\u001b[0m\u001b[1;33m(\u001b[0m\u001b[0mit\u001b[0m \u001b[1;33m-\u001b[0m \u001b[0mavg\u001b[0m\u001b[1;33m)\u001b[0m\u001b[1;33m/\u001b[0m\u001b[0msd\u001b[0m\u001b[1;33m)\u001b[0m\u001b[1;33m\u001b[0m\u001b[1;33m\u001b[0m\u001b[0m\n\u001b[0m\u001b[0;32m     55\u001b[0m \u001b[0mstandard\u001b[0m\u001b[1;33m\u001b[0m\u001b[1;33m\u001b[0m\u001b[0m\n\u001b[0;32m     56\u001b[0m \u001b[1;31m#print(StandardScaler().fit_transform(a))\u001b[0m\u001b[1;33m\u001b[0m\u001b[1;33m\u001b[0m\u001b[1;33m\u001b[0m\u001b[0m\n",
      "\u001b[1;31mNameError\u001b[0m: name 'avg' is not defined"
     ]
    }
   ],
   "source": [
    "import math as mt\n",
    "from sklearn.preprocessing import Normalizer,StandardScaler\n",
    "a=[3,6,6,7,2,4]\n",
    "#mean\n",
    "sum=0\n",
    "for i in a:\n",
    "    sum+=i\n",
    "mean=sum/len(a)\n",
    "print('Mean=',mean)\n",
    "\n",
    "#median\n",
    "a.sort()\n",
    "n=len(a)\n",
    "if n%2==1:\n",
    "    med=mt.floor(a[n/2])\n",
    "else:\n",
    "    m=int(n/2)\n",
    "    med=a[m]+a[m-1]\n",
    "print('Median=',med/2)\n",
    "\n",
    "#mode\n",
    "s=[0]*max(a)\n",
    "print(a)\n",
    "for i in a:\n",
    "    s[i-1]+=1\n",
    "print('Mode at index ',s.index(max(s)))\n",
    "\n",
    "#variance and std\n",
    "sum=0\n",
    "for i in a:\n",
    "    sum+=pow((mean-i),2)\n",
    "var=(sum/len(a)-1)\n",
    "sd=mt.sqrt(var)\n",
    "print('variance= ',var,'\\nsd= ',sd)\n",
    "a=[[4,1,2,2],[1,3,9,3],[5,7,5,1]]\n",
    "\n",
    "#normalization\n",
    "maxi = 0\n",
    "mini = 100000000\n",
    "for it in a:\n",
    "    if it>maxi:\n",
    "        maxi=it\n",
    "    if it<mini:\n",
    "        mini=it\n",
    "print(mini)\n",
    "print(maxi)\n",
    "norm=[]\n",
    "for it in a:\n",
    "    norm.append((it-mini)/(maxi-mini))\n",
    "\n",
    "#standardisation\n",
    "standard = []\n",
    "for it in l1:\n",
    "    standard.append((it - avg)/sd)\n",
    "standard\n",
    "#print(StandardScaler().fit_transform(a))\n",
    "#print('\\n')\n",
    "#print(Normalizer().fit_transform(a))"
   ]
  },
  {
   "cell_type": "code",
   "execution_count": 41,
   "id": "7b716bba",
   "metadata": {},
   "outputs": [
    {
     "data": {
      "text/plain": [
       "[1, 1, 1, 1, 2]"
      ]
     },
     "execution_count": 41,
     "metadata": {},
     "output_type": "execute_result"
    }
   ],
   "source": [
    "a=[1,2,3,4,5,5]\n",
    "b=0\n",
    "s=[0]*max(a)\n",
    "for i in a:\n",
    "    s[i-1]+=1\n",
    "s"
   ]
  },
  {
   "cell_type": "code",
   "execution_count": 33,
   "id": "092f3095",
   "metadata": {},
   "outputs": [
    {
     "name": "stdout",
     "output_type": "stream",
     "text": [
      "90.4\n",
      "195.5\n"
     ]
    }
   ],
   "source": [
    "l1 = [115.3,195.5,120.5,110.2,90.4,105.6,110.9,116.3,122.3,125.4]\n",
    "maxi = 0\n",
    "mini = 100000000\n",
    "for it in l1:\n",
    "    if it>maxi:\n",
    "        maxi=it\n",
    "    if it<mini:\n",
    "        mini=it\n",
    "print(mini)\n",
    "print(maxi)"
   ]
  },
  {
   "cell_type": "code",
   "execution_count": null,
   "id": "13b380a0",
   "metadata": {},
   "outputs": [],
   "source": []
  }
 ],
 "metadata": {
  "kernelspec": {
   "display_name": "Python 3",
   "language": "python",
   "name": "python3"
  },
  "language_info": {
   "codemirror_mode": {
    "name": "ipython",
    "version": 3
   },
   "file_extension": ".py",
   "mimetype": "text/x-python",
   "name": "python",
   "nbconvert_exporter": "python",
   "pygments_lexer": "ipython3",
   "version": "3.8.8"
  }
 },
 "nbformat": 4,
 "nbformat_minor": 5
}
